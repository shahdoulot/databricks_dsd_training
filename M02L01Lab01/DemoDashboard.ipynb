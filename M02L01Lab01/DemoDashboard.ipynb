{
 "cells": [
  {
   "cell_type": "markdown",
   "metadata": {
    "application/vnd.databricks.v1+cell": {
     "cellMetadata": {
      "byteLimit": 2048000,
      "rowLimit": 10000
     },
     "inputWidgets": {},
     "nuid": "3882c855-311f-4072-a927-46153aee0ef3",
     "showTitle": false,
     "title": ""
    }
   },
   "source": [
    "# Dashboards\n",
    "\n",
    "Dashboards allow you to publish graphs and visualizations and share them in a presentation format with your organization. This notebook shows how to create, edit, and delete dashboards."
   ]
  },
  {
   "cell_type": "markdown",
   "metadata": {
    "application/vnd.databricks.v1+cell": {
     "cellMetadata": {
      "byteLimit": 2048000,
      "rowLimit": 10000
     },
     "inputWidgets": {},
     "nuid": "dc316341-3264-4d70-84df-11390b0e39e8",
     "showTitle": false,
     "title": ""
    }
   },
   "source": [
    "## Getting Started\n",
    "\n",
    "Dashboards are composed of elements. These elements are created by output from notebook cells. Let's create some elements (and cells) for the dashboard we're going to be building. The first cell creates a dashboard title using the ``displayHTML()`` function."
   ]
  },
  {
   "cell_type": "code",
   "execution_count": 0,
   "metadata": {
    "application/vnd.databricks.v1+cell": {
     "cellMetadata": {
      "byteLimit": 2048000,
      "rowLimit": 10000
     },
     "inputWidgets": {},
     "nuid": "2101a18a-31c1-4ee7-be84-6c453ed7a743",
     "showTitle": false,
     "title": ""
    }
   },
   "outputs": [
    {
     "output_type": "display_data",
     "data": {
      "text/html": [
       "<font size=\"6\" color=\"green\" face=\"sans-serif\">Bike Sharing Data Analysis Dashboard</font>"
      ]
     },
     "metadata": {
      "application/vnd.databricks.v1+output": {
       "addedWidgets": {},
       "arguments": {},
       "data": "<font size=\"6\" color=\"green\" face=\"sans-serif\">Bike Sharing Data Analysis Dashboard</font>",
       "datasetInfos": [],
       "metadata": {},
       "removedWidgets": [],
       "textData": null,
       "type": "htmlSandbox"
      }
     },
     "output_type": "display_data"
    }
   ],
   "source": [
    "displayHTML(\"\"\"<font size=\"6\" color=\"green\" face=\"sans-serif\">Bike Sharing Data Analysis Dashboard</font>\"\"\")"
   ]
  },
  {
   "cell_type": "markdown",
   "metadata": {
    "application/vnd.databricks.v1+cell": {
     "cellMetadata": {
      "byteLimit": 2048000,
      "rowLimit": 10000
     },
     "inputWidgets": {},
     "nuid": "29ce0e62-8b10-48fa-a7da-43750717a16e",
     "showTitle": false,
     "title": ""
    }
   },
   "source": [
    "You can also create a title or label using Markdown.\n",
    "\n",
    "```\n",
    "%md ## Dashboard label\n",
    "```\n",
    "\n",
    "which renders as:\n",
    "\n",
    "## Dashboard label"
   ]
  },
  {
   "cell_type": "markdown",
   "metadata": {
    "application/vnd.databricks.v1+cell": {
     "cellMetadata": {
      "byteLimit": 2048000,
      "rowLimit": 10000
     },
     "inputWidgets": {},
     "nuid": "2e4046de-f810-438a-9506-28f95cb01558",
     "showTitle": false,
     "title": ""
    }
   },
   "source": [
    "Create a dashboard that displays a bikesharing dataset available as a Databricks hosted dataset."
   ]
  },
  {
   "cell_type": "code",
   "execution_count": 0,
   "metadata": {
    "application/vnd.databricks.v1+cell": {
     "cellMetadata": {
      "byteLimit": 2048000,
      "rowLimit": 10000
     },
     "inputWidgets": {},
     "nuid": "054e7ae5-8b4f-419e-b2b4-da06e8d91d22",
     "showTitle": false,
     "title": ""
    }
   },
   "outputs": [],
   "source": [
    "# For this example, we use the bike sharing dataset available on `dbfs`.\n",
    "df = spark.read.format(\"csv\").option(\"inferSchema\", \"true\").option(\"header\", \"true\").load(\"dbfs:/databricks-datasets/bikeSharing/data-001/day.csv\")\n",
    "\n",
    "df.createOrReplaceTempView (\"bikeshare\")"
   ]
  },
  {
   "cell_type": "markdown",
   "metadata": {
    "application/vnd.databricks.v1+cell": {
     "cellMetadata": {
      "byteLimit": 2048000,
      "rowLimit": 10000
     },
     "inputWidgets": {},
     "nuid": "55ded85d-3115-4a34-932f-e9375cc17485",
     "showTitle": false,
     "title": ""
    }
   },
   "source": [
    "Create a graph of bike conditions across each of the seasons. Also create a cell with this label to correctly label the graph."
   ]
  },
  {
   "cell_type": "markdown",
   "metadata": {
    "application/vnd.databricks.v1+cell": {
     "cellMetadata": {
      "byteLimit": 2048000,
      "rowLimit": 10000
     },
     "inputWidgets": {},
     "nuid": "f763d987-d958-4599-8f3c-87a80d319854",
     "showTitle": false,
     "title": ""
    }
   },
   "source": [
    "**Biking Conditions Across the Seasons**"
   ]
  },
  {
   "cell_type": "code",
   "execution_count": 0,
   "metadata": {
    "application/vnd.databricks.v1+cell": {
     "cellMetadata": {
      "byteLimit": 2048000,
      "rowLimit": 10000
     },
     "inputWidgets": {},
     "nuid": "ad11bc5e-dcda-4964-ac8b-4a7218783211",
     "showTitle": false,
     "title": ""
    }
   },
   "outputs": [
    {
     "output_type": "display_data",
     "data": {
      "text/html": [
       "<style scoped>\n",
       "  .table-result-container {\n",
       "    max-height: 300px;\n",
       "    overflow: auto;\n",
       "  }\n",
       "  table, th, td {\n",
       "    border: 1px solid black;\n",
       "    border-collapse: collapse;\n",
       "  }\n",
       "  th, td {\n",
       "    padding: 5px;\n",
       "  }\n",
       "  th {\n",
       "    text-align: left;\n",
       "  }\n",
       "</style><div class='table-result-container'><table class='table-result'><thead style='background-color: white'><tr><th>season</th><th>temperature</th><th>humidity</th><th>windspeed</th></tr></thead><tbody><tr><td>1</td><td>0.5725</td><td>0.948261</td><td>0.507463</td></tr><tr><td>2</td><td>0.808333</td><td>0.9225</td><td>0.388067</td></tr><tr><td>3</td><td>0.861667</td><td>0.939565</td><td>0.375617</td></tr><tr><td>4</td><td>0.6575</td><td>0.9725</td><td>0.422275</td></tr></tbody></table></div>"
      ]
     },
     "metadata": {
      "application/vnd.databricks.v1+output": {
       "addedWidgets": {},
       "aggData": [],
       "aggError": "",
       "aggOverflow": false,
       "aggSchema": [],
       "aggSeriesLimitReached": false,
       "aggType": "",
       "arguments": {},
       "columnCustomDisplayInfos": {},
       "data": [
        [
         1,
         0.5725,
         0.948261,
         0.507463
        ],
        [
         2,
         0.808333,
         0.9225,
         0.388067
        ],
        [
         3,
         0.861667,
         0.939565,
         0.375617
        ],
        [
         4,
         0.6575,
         0.9725,
         0.422275
        ]
       ],
       "datasetInfos": [],
       "dbfsResultPath": null,
       "isJsonSchema": true,
       "metadata": {},
       "overflow": false,
       "plotOptions": {
        "customPlotOptions": {},
        "displayType": "table",
        "pivotAggregation": null,
        "pivotColumns": null,
        "xColumns": null,
        "yColumns": null
       },
       "removedWidgets": [],
       "schema": [
        {
         "metadata": "{}",
         "name": "season",
         "type": "\"integer\""
        },
        {
         "metadata": "{}",
         "name": "temperature",
         "type": "\"double\""
        },
        {
         "metadata": "{}",
         "name": "humidity",
         "type": "\"double\""
        },
        {
         "metadata": "{}",
         "name": "windspeed",
         "type": "\"double\""
        }
       ],
       "type": "table"
      }
     },
     "output_type": "display_data"
    }
   ],
   "source": [
    "display(spark.sql(\"SELECT season, MAX(temp) as temperature, MAX(hum) as humidity, MAX(windspeed) as windspeed FROM bikeshare GROUP BY season ORDER BY SEASON\"))"
   ]
  },
  {
   "cell_type": "markdown",
   "metadata": {
    "application/vnd.databricks.v1+cell": {
     "cellMetadata": {
      "byteLimit": 2048000,
      "rowLimit": 10000
     },
     "inputWidgets": {},
     "nuid": "fc84b3af-310a-4020-a6d0-1f8dcaa02be5",
     "showTitle": false,
     "title": ""
    }
   },
   "source": [
    "## Create a dashboard\n",
    "\n",
    "Now that we have some elements to display, create a dashboard from them."
   ]
  },
  {
   "cell_type": "markdown",
   "metadata": {
    "application/vnd.databricks.v1+cell": {
     "cellMetadata": {
      "byteLimit": 2048000,
      "rowLimit": 10000
     },
     "inputWidgets": {},
     "nuid": "8cd5e273-6614-4502-b0b2-8f229dcb6446",
     "showTitle": false,
     "title": ""
    }
   },
   "source": [
    "Click on the the dashboard icon at the far right and click on **+ Add to New Dashboard**.\n",
    "\n",
    "![something](https://docs.databricks.com/_static/images/dashboards/dashboard-demo-3.png)\n",
    "\n",
    "Give your dashboard a name."
   ]
  },
  {
   "cell_type": "markdown",
   "metadata": {
    "application/vnd.databricks.v1+cell": {
     "cellMetadata": {
      "byteLimit": 2048000,
      "rowLimit": 10000
     },
     "inputWidgets": {},
     "nuid": "e09c5d7a-26ec-42da-a4cf-5fab1919cc8e",
     "showTitle": false,
     "title": ""
    }
   },
   "source": [
    "By default the new dashboard will include the cell from where you created it. You can delete it if you want. Navigate back to the notebook code by selecting the **Standard** option from the **View** menu.\n",
    "\n",
    "New cells do not automatically appear on your dashboard. You add them manually by clicking the dashboard icon at the far right and selecting the checkbox next to the dashboard name.\n",
    "\n",
    "![something](https://docs.databricks.com/_static/images/dashboards/dashboard-demo-3.png)\n",
    "\n",
    "You can add and remove cells in the same manner."
   ]
  },
  {
   "cell_type": "markdown",
   "metadata": {
    "application/vnd.databricks.v1+cell": {
     "cellMetadata": {
      "byteLimit": 2048000,
      "rowLimit": 10000
     },
     "inputWidgets": {},
     "nuid": "5c2940b4-e662-4932-bf9d-cde8387080fc",
     "showTitle": false,
     "title": ""
    }
   },
   "source": [
    "New cells do not automatically appear on your dashboard. You add them manually by clicking the dashboard icon at the far right and selecting the checkbox next to the dashboard name.\n",
    "\n",
    "![something](https://docs.databricks.com/_static/images/dashboards/dashboard-demo-3.png)\n",
    "\n",
    "You can add and remove cells in the same manner."
   ]
  },
  {
   "cell_type": "markdown",
   "metadata": {
    "application/vnd.databricks.v1+cell": {
     "cellMetadata": {
      "byteLimit": 2048000,
      "rowLimit": 10000
     },
     "inputWidgets": {},
     "nuid": "8756177f-0365-497a-8a57-294380cd2c3d",
     "showTitle": false,
     "title": ""
    }
   },
   "source": [
    "## Add graphs to a dashboard\n",
    "\n",
    "Create more graphs to add to the dashboard. First, add a graph of biking conditions across all months in our dataset. Also create a cell with a label. Add the cells to the dashboard."
   ]
  },
  {
   "cell_type": "markdown",
   "metadata": {
    "application/vnd.databricks.v1+cell": {
     "cellMetadata": {
      "byteLimit": 2048000,
      "rowLimit": 10000
     },
     "inputWidgets": {},
     "nuid": "76767447-92e9-48f4-b697-bde1ab7a5ebb",
     "showTitle": false,
     "title": ""
    }
   },
   "source": [
    "**Average Biking Conditions**"
   ]
  },
  {
   "cell_type": "code",
   "execution_count": 0,
   "metadata": {
    "application/vnd.databricks.v1+cell": {
     "cellMetadata": {
      "byteLimit": 2048000,
      "rowLimit": 10000
     },
     "inputWidgets": {},
     "nuid": "8521fde4-a0a0-4c64-85c0-cfc7534e8352",
     "showTitle": false,
     "title": ""
    }
   },
   "outputs": [
    {
     "output_type": "display_data",
     "data": {
      "text/html": [
       "<style scoped>\n",
       "  .table-result-container {\n",
       "    max-height: 300px;\n",
       "    overflow: auto;\n",
       "  }\n",
       "  table, th, td {\n",
       "    border: 1px solid black;\n",
       "    border-collapse: collapse;\n",
       "  }\n",
       "  th, td {\n",
       "    padding: 5px;\n",
       "  }\n",
       "  th {\n",
       "    text-align: left;\n",
       "  }\n",
       "</style><div class='table-result-container'><table class='table-result'><thead style='background-color: white'><tr><th>month</th><th>temperature</th><th>humidity</th><th>windspeed</th></tr></thead><tbody><tr><td>1</td><td>0.23644392580645157</td><td>0.5858282741935483</td><td>0.20630276774193557</td></tr><tr><td>2</td><td>0.29922643859649123</td><td>0.5674646842105263</td><td>0.21568393508771921</td></tr><tr><td>3</td><td>0.39053875806451616</td><td>0.5884750322580643</td><td>0.22269944032258068</td></tr><tr><td>4</td><td>0.46999883333333337</td><td>0.5880631166666664</td><td>0.23448223666666657</td></tr><tr><td>5</td><td>0.5947984193548386</td><td>0.688958306451613</td><td>0.18298892741935485</td></tr><tr><td>6</td><td>0.6840972000000002</td><td>0.5758055166666669</td><td>0.185419905</td></tr><tr><td>7</td><td>0.7554704193548387</td><td>0.5978763225806452</td><td>0.1660588274193548</td></tr><tr><td>8</td><td>0.7085815645161291</td><td>0.6377300967741937</td><td>0.1729181483870968</td></tr><tr><td>9</td><td>0.6164849666666666</td><td>0.7147143666666668</td><td>0.16594512166666667</td></tr><tr><td>10</td><td>0.4850121935483871</td><td>0.6937608709677417</td><td>0.17520547419354843</td></tr><tr><td>11</td><td>0.3692197666666666</td><td>0.6248764833333335</td><td>0.18380142000000002</td></tr><tr><td>12</td><td>0.3240309677419355</td><td>0.6660405161290321</td><td>0.17660892096774194</td></tr></tbody></table></div>"
      ]
     },
     "metadata": {
      "application/vnd.databricks.v1+output": {
       "addedWidgets": {},
       "aggData": [],
       "aggError": "",
       "aggOverflow": false,
       "aggSchema": [],
       "aggSeriesLimitReached": false,
       "aggType": "",
       "arguments": {},
       "columnCustomDisplayInfos": {},
       "data": [
        [
         1,
         0.23644392580645157,
         0.5858282741935483,
         0.20630276774193557
        ],
        [
         2,
         0.29922643859649123,
         0.5674646842105263,
         0.21568393508771921
        ],
        [
         3,
         0.39053875806451616,
         0.5884750322580643,
         0.22269944032258068
        ],
        [
         4,
         0.46999883333333337,
         0.5880631166666664,
         0.23448223666666657
        ],
        [
         5,
         0.5947984193548386,
         0.688958306451613,
         0.18298892741935485
        ],
        [
         6,
         0.6840972000000002,
         0.5758055166666669,
         0.185419905
        ],
        [
         7,
         0.7554704193548387,
         0.5978763225806452,
         0.1660588274193548
        ],
        [
         8,
         0.7085815645161291,
         0.6377300967741937,
         0.1729181483870968
        ],
        [
         9,
         0.6164849666666666,
         0.7147143666666668,
         0.16594512166666667
        ],
        [
         10,
         0.4850121935483871,
         0.6937608709677417,
         0.17520547419354843
        ],
        [
         11,
         0.3692197666666666,
         0.6248764833333335,
         0.18380142000000002
        ],
        [
         12,
         0.3240309677419355,
         0.6660405161290321,
         0.17660892096774194
        ]
       ],
       "datasetInfos": [],
       "dbfsResultPath": null,
       "isJsonSchema": true,
       "metadata": {},
       "overflow": false,
       "plotOptions": {
        "customPlotOptions": {},
        "displayType": "table",
        "pivotAggregation": null,
        "pivotColumns": null,
        "xColumns": null,
        "yColumns": null
       },
       "removedWidgets": [],
       "schema": [
        {
         "metadata": "{}",
         "name": "month",
         "type": "\"integer\""
        },
        {
         "metadata": "{}",
         "name": "temperature",
         "type": "\"double\""
        },
        {
         "metadata": "{}",
         "name": "humidity",
         "type": "\"double\""
        },
        {
         "metadata": "{}",
         "name": "windspeed",
         "type": "\"double\""
        }
       ],
       "type": "table"
      }
     },
     "output_type": "display_data"
    }
   ],
   "source": [
    "display(spark.sql(\"SELECT mnth as month, AVG(temp) as temperature, AVG(hum) as humidity, AVG(windspeed) as windspeed FROM bikeshare GROUP BY month ORDER BY month\"))"
   ]
  },
  {
   "cell_type": "markdown",
   "metadata": {
    "application/vnd.databricks.v1+cell": {
     "cellMetadata": {
      "byteLimit": 2048000,
      "rowLimit": 10000
     },
     "inputWidgets": {},
     "nuid": "717496e2-8a03-4923-9811-e59caa3ac849",
     "showTitle": false,
     "title": ""
    }
   },
   "source": [
    "While the average is nice to see, it's likely we're more worried about the extreme conditions. Create a graph of the extreme bike conditions across the months. Also create a cell with a label. Add the cells to the dashboard."
   ]
  },
  {
   "cell_type": "markdown",
   "metadata": {
    "application/vnd.databricks.v1+cell": {
     "cellMetadata": {
      "byteLimit": 2048000,
      "rowLimit": 10000
     },
     "inputWidgets": {},
     "nuid": "9d8ee6f3-c819-46bd-9dfe-b201f4b39284",
     "showTitle": false,
     "title": ""
    }
   },
   "source": [
    "**Extreme Biking Conditions**"
   ]
  },
  {
   "cell_type": "code",
   "execution_count": 0,
   "metadata": {
    "application/vnd.databricks.v1+cell": {
     "cellMetadata": {
      "byteLimit": 2048000,
      "implicitDf": true,
      "rowLimit": 10000
     },
     "inputWidgets": {},
     "nuid": "55726192-bf48-454f-bfbd-b46ec08503a0",
     "showTitle": false,
     "title": ""
    }
   },
   "outputs": [
    {
     "output_type": "display_data",
     "data": {
      "text/html": [
       "<style scoped>\n",
       "  .table-result-container {\n",
       "    max-height: 300px;\n",
       "    overflow: auto;\n",
       "  }\n",
       "  table, th, td {\n",
       "    border: 1px solid black;\n",
       "    border-collapse: collapse;\n",
       "  }\n",
       "  th, td {\n",
       "    padding: 5px;\n",
       "  }\n",
       "  th {\n",
       "    text-align: left;\n",
       "  }\n",
       "</style><div class='table-result-container'><table class='table-result'><thead style='background-color: white'><tr><th>month</th><th>max_temperature</th><th>max_humidity</th><th>max_windspeed</th></tr></thead><tbody><tr><td>1</td><td>0.425</td><td>0.91125</td><td>0.415429</td></tr><tr><td>2</td><td>0.521667</td><td>0.929167</td><td>0.507463</td></tr><tr><td>3</td><td>0.601667</td><td>0.948261</td><td>0.441563</td></tr><tr><td>4</td><td>0.664167</td><td>0.888333</td><td>0.388067</td></tr><tr><td>5</td><td>0.775</td><td>0.9225</td><td>0.342667</td></tr><tr><td>6</td><td>0.834167</td><td>0.833333</td><td>0.347642</td></tr><tr><td>7</td><td>0.861667</td><td>0.865417</td><td>0.284813</td></tr><tr><td>8</td><td>0.793333</td><td>0.85</td><td>0.375617</td></tr><tr><td>9</td><td>0.753333</td><td>0.9725</td><td>0.357587</td></tr><tr><td>10</td><td>0.6575</td><td>0.90625</td><td>0.422275</td></tr><tr><td>11</td><td>0.53</td><td>0.9625</td><td>0.376871</td></tr><tr><td>12</td><td>0.475833</td><td>0.970417</td><td>0.407346</td></tr></tbody></table></div>"
      ]
     },
     "metadata": {
      "application/vnd.databricks.v1+output": {
       "addedWidgets": {},
       "aggData": [],
       "aggError": "",
       "aggOverflow": false,
       "aggSchema": [],
       "aggSeriesLimitReached": false,
       "aggType": "",
       "arguments": {},
       "columnCustomDisplayInfos": {},
       "data": [
        [
         1,
         0.425,
         0.91125,
         0.415429
        ],
        [
         2,
         0.521667,
         0.929167,
         0.507463
        ],
        [
         3,
         0.601667,
         0.948261,
         0.441563
        ],
        [
         4,
         0.664167,
         0.888333,
         0.388067
        ],
        [
         5,
         0.775,
         0.9225,
         0.342667
        ],
        [
         6,
         0.834167,
         0.833333,
         0.347642
        ],
        [
         7,
         0.861667,
         0.865417,
         0.284813
        ],
        [
         8,
         0.793333,
         0.85,
         0.375617
        ],
        [
         9,
         0.753333,
         0.9725,
         0.357587
        ],
        [
         10,
         0.6575,
         0.90625,
         0.422275
        ],
        [
         11,
         0.53,
         0.9625,
         0.376871
        ],
        [
         12,
         0.475833,
         0.970417,
         0.407346
        ]
       ],
       "datasetInfos": [],
       "dbfsResultPath": null,
       "isJsonSchema": true,
       "metadata": {},
       "overflow": false,
       "plotOptions": {
        "customPlotOptions": {},
        "displayType": "table",
        "pivotAggregation": null,
        "pivotColumns": null,
        "xColumns": null,
        "yColumns": null
       },
       "removedWidgets": [],
       "schema": [
        {
         "metadata": "{}",
         "name": "month",
         "type": "\"integer\""
        },
        {
         "metadata": "{}",
         "name": "max_temperature",
         "type": "\"double\""
        },
        {
         "metadata": "{}",
         "name": "max_humidity",
         "type": "\"double\""
        },
        {
         "metadata": "{}",
         "name": "max_windspeed",
         "type": "\"double\""
        }
       ],
       "type": "table"
      }
     },
     "output_type": "display_data"
    }
   ],
   "source": [
    "%sql SELECT mnth as month, MAX(temp) as max_temperature, MAX(hum) as max_humidity, MAX(windspeed) as max_windspeed FROM bikeshare GROUP BY mnth ORDER BY mnth"
   ]
  },
  {
   "cell_type": "markdown",
   "metadata": {
    "application/vnd.databricks.v1+cell": {
     "cellMetadata": {
      "byteLimit": 2048000,
      "rowLimit": 10000
     },
     "inputWidgets": {},
     "nuid": "d2682afb-28d8-43f8-839a-def1a5b93574",
     "showTitle": false,
     "title": ""
    }
   },
   "source": [
    "Now that you've created a dashboard you can organize it. Navigate to the top of new dashboard. Select the bottom left or right corners to resize and reshape each tile in the dashboard. Markdown cells become labels for each section of the dashboard.\n",
    "\n",
    "![something](https://docs.databricks.com/_static/images/dashboards/dashboard-demo-4.png)"
   ]
  },
  {
   "cell_type": "markdown",
   "metadata": {
    "application/vnd.databricks.v1+cell": {
     "cellMetadata": {
      "byteLimit": 2048000,
      "rowLimit": 10000
     },
     "inputWidgets": {},
     "nuid": "57b79244-2bc9-4b1b-8205-437260edcb82",
     "showTitle": false,
     "title": ""
    }
   },
   "source": [
    "## Present a dashboard\n",
    "\n",
    "You can present a dashboard by selecting the **Present Dashboard** button on the right.\n",
    "\n",
    "![something](https://docs.databricks.com/_static/images/dashboards/dashboard-demo-5.png)"
   ]
  },
  {
   "cell_type": "markdown",
   "metadata": {
    "application/vnd.databricks.v1+cell": {
     "cellMetadata": {
      "byteLimit": 2048000,
      "rowLimit": 10000
     },
     "inputWidgets": {},
     "nuid": "a446a387-db38-4a93-87fc-569f501ed756",
     "showTitle": false,
     "title": ""
    }
   },
   "source": [
    "## Edit a dashboard\n",
    "\n",
    "Edit a dashboard from within the Dashboard view. Open the dashboard and edit it as instructed above."
   ]
  },
  {
   "cell_type": "markdown",
   "metadata": {
    "application/vnd.databricks.v1+cell": {
     "cellMetadata": {
      "byteLimit": 2048000,
      "rowLimit": 10000
     },
     "inputWidgets": {},
     "nuid": "01d3fbb4-bec5-4812-b300-500df3ba8269",
     "showTitle": false,
     "title": ""
    }
   },
   "source": [
    "## Delete a dashboard\n",
    "\n",
    "Delete a dashboard from within the Dashboard view.  Open the dashboard and press the **Delete this dashboard** button on the right."
   ]
  }
 ],
 "metadata": {
  "application/vnd.databricks.v1+notebook": {
   "dashboards": [
    {
     "elements": [
      {
       "dashboardResultIndex": 0,
       "elementNUID": "2101a18a-31c1-4ee7-be84-6c453ed7a743",
       "elementType": "command",
       "guid": "98fab5b8-6545-4123-80fb-6d2793a140ca",
       "options": null,
       "position": {
        "height": 2,
        "width": 24,
        "x": 0,
        "y": 0,
        "z": null
       },
       "resultIndex": null
      }
     ],
     "globalVars": {},
     "guid": "3a569827-4114-41e2-9588-c03e3bf72af9",
     "layoutOption": {
      "grid": true,
      "stack": true
     },
     "nuid": "2acf9fa8-7fca-42d1-af9e-3269a334c02a",
     "origId": 3130632624502337,
     "title": "DashboardDemo",
     "version": "DashboardViewV1",
     "width": 1024
    },
    {
     "elements": [],
     "globalVars": {},
     "guid": "6e5c300f-2a01-4f6f-bd96-680e1ac08448",
     "layoutOption": {
      "grid": true,
      "stack": true
     },
     "nuid": "4164e403-6912-49e4-bf15-5405444fc401",
     "origId": 3130632624502339,
     "title": "Untitled",
     "version": "DashboardViewV1",
     "width": 1024
    },
    {
     "elements": [
      {
       "dashboardResultIndex": 0,
       "elementNUID": "8cd5e273-6614-4502-b0b2-8f229dcb6446",
       "elementType": "command",
       "guid": "5d35fea9-de50-43a4-a367-551c9e58e091",
       "options": null,
       "position": {
        "height": 4,
        "width": 12,
        "x": 0,
        "y": 0,
        "z": null
       },
       "resultIndex": null
      }
     ],
     "globalVars": {},
     "guid": "c5c475ec-6004-4362-aa1e-049d01d2432a",
     "layoutOption": {
      "grid": true,
      "stack": true
     },
     "nuid": "f1555cb3-104f-441e-b5f0-f0cc63acab07",
     "origId": 3130632624502340,
     "title": "Untitled",
     "version": "DashboardViewV1",
     "width": 1024
    }
   ],
   "language": "python",
   "notebookMetadata": {
    "mostRecentlyExecutedCommandWithImplicitDF": {
     "commandId": 3130632624502331,
     "dataframes": [
      "_sqldf"
     ]
    },
    "pythonIndentUnit": 4
   },
   "notebookName": "DemoDashboard",
   "notebookOrigID": 3130632624502312,
   "widgets": {}
  },
  "name": "dashboards.html",
  "notebookId": 1215083180387600
 },
 "nbformat": 4,
 "nbformat_minor": 0
}
