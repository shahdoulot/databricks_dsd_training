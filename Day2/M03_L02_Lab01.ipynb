{
 "cells": [
  {
   "cell_type": "markdown",
   "metadata": {
    "application/vnd.databricks.v1+cell": {
     "cellMetadata": {},
     "inputWidgets": {},
     "nuid": "ba2f374c-4c85-4321-994a-4977f2050c0f",
     "showTitle": false,
     "title": ""
    }
   },
   "source": [
    "#Databricks Delta table demo for following:\n",
    "\n",
    "         1. Create delta table from a csv using tempview\n",
    "         2. Data exploration to find a good column for partitioning\n",
    "         3. Partition the table \n",
    "         4. Time Travel\n",
    "         5. Optimize and Analyze\n",
    "         6. Databricks delta table Vacuum for data retention specially for timetravel to older versions\n",
    "\n",
    "###Note : We are going to use Bike Sharing dataset provided by Databricks Dataset"
   ]
  },
  {
   "cell_type": "markdown",
   "metadata": {
    "application/vnd.databricks.v1+cell": {
     "cellMetadata": {},
     "inputWidgets": {},
     "nuid": "93ac43ab-11a9-4ab6-a0fa-1e75170422b1",
     "showTitle": false,
     "title": ""
    }
   },
   "source": [
    "####Step 1. Creating delta table from csv using tempview"
   ]
  },
  {
   "cell_type": "code",
   "execution_count": 0,
   "metadata": {
    "application/vnd.databricks.v1+cell": {
     "cellMetadata": {
      "byteLimit": 2048000,
      "rowLimit": 10000
     },
     "inputWidgets": {},
     "nuid": "37269c7d-657e-48fc-a5d9-03d49e410f71",
     "showTitle": false,
     "title": ""
    }
   },
   "outputs": [],
   "source": [
    "df = spark.read.format('csv').load(\n",
    "  '/databricks-datasets/bikeSharing/data-001/hour.csv',\n",
    "  header=True,\n",
    "  inferSchema=True\n",
    ")"
   ]
  },
  {
   "cell_type": "markdown",
   "metadata": {
    "application/vnd.databricks.v1+cell": {
     "cellMetadata": {},
     "inputWidgets": {},
     "nuid": "a221acd2-9ebc-4e22-8dd4-3efed07d6a38",
     "showTitle": false,
     "title": ""
    }
   },
   "source": [
    "Creating temp view to work on SQL based commands"
   ]
  },
  {
   "cell_type": "code",
   "execution_count": 0,
   "metadata": {
    "application/vnd.databricks.v1+cell": {
     "cellMetadata": {
      "byteLimit": 2048000,
      "rowLimit": 10000
     },
     "inputWidgets": {},
     "nuid": "d6af50b9-6494-4761-9d11-1aab919255db",
     "showTitle": false,
     "title": ""
    }
   },
   "outputs": [],
   "source": [
    "df.createOrReplaceTempView(\"temp\")"
   ]
  },
  {
   "cell_type": "markdown",
   "metadata": {
    "application/vnd.databricks.v1+cell": {
     "cellMetadata": {},
     "inputWidgets": {},
     "nuid": "82249f6c-1fb4-4cbb-a107-238817b711fd",
     "showTitle": false,
     "title": ""
    }
   },
   "source": [
    "Delete any artifacts from prior runs, if any"
   ]
  },
  {
   "cell_type": "code",
   "execution_count": 0,
   "metadata": {
    "application/vnd.databricks.v1+cell": {
     "cellMetadata": {
      "byteLimit": 2048000,
      "rowLimit": 10000
     },
     "inputWidgets": {},
     "nuid": "de442ec4-5cee-44ce-8cc9-080c2edb6ba9",
     "showTitle": false,
     "title": ""
    }
   },
   "outputs": [],
   "source": [
    "%sh\n",
    "rm -rf /dbfs/tmp/bikeSharing\n",
    "rm -rf /dbfs/tmp/bikeSharingPartition\n",
    "rm -rf /dbfs/tmp/bikeSharingDay\n",
    "rm -rf /dbfs/tmp/bikeSharingDayOptPar\n",
    "rm -rf /dbfs/tmp/bikeSharingDayOptDel"
   ]
  },
  {
   "cell_type": "markdown",
   "metadata": {
    "application/vnd.databricks.v1+cell": {
     "cellMetadata": {},
     "inputWidgets": {},
     "nuid": "902c23bd-d306-4ef4-a369-57978c49f5c8",
     "showTitle": false,
     "title": ""
    }
   },
   "source": [
    "Run a CTAS (Create Table as Select) statement to create a delta table\n",
    "as 'bikeSharing' with the contents of the previously created temp view 'temp'"
   ]
  },
  {
   "cell_type": "code",
   "execution_count": 0,
   "metadata": {
    "application/vnd.databricks.v1+cell": {
     "cellMetadata": {
      "byteLimit": 2048000,
      "implicitDf": true,
      "rowLimit": 10000
     },
     "inputWidgets": {},
     "nuid": "80f97552-c6f3-488c-a729-c324587a3023",
     "showTitle": false,
     "title": ""
    }
   },
   "outputs": [],
   "source": [
    "%sql\n",
    "DROP TABLE IF EXISTS bikeSharing;\n",
    "CREATE TABLE bikeSharing \n",
    "USING DELTA\n",
    "LOCATION '/tmp/bikeSharing/'\n",
    "AS SELECT * from  temp"
   ]
  },
  {
   "cell_type": "markdown",
   "metadata": {
    "application/vnd.databricks.v1+cell": {
     "cellMetadata": {},
     "inputWidgets": {},
     "nuid": "5a3d1afb-bee8-46ea-a3d4-b450f7f7f2bf",
     "showTitle": false,
     "title": ""
    }
   },
   "source": [
    "Let's take a look at the data in the table"
   ]
  },
  {
   "cell_type": "code",
   "execution_count": 0,
   "metadata": {
    "application/vnd.databricks.v1+cell": {
     "cellMetadata": {
      "byteLimit": 2048000,
      "implicitDf": true,
      "rowLimit": 10000
     },
     "inputWidgets": {},
     "nuid": "d054bfc7-9e69-4888-9def-add917ec7498",
     "showTitle": false,
     "title": ""
    }
   },
   "outputs": [],
   "source": [
    "%sql\n",
    "SELECT * FROM bikeSharing LIMIT 10"
   ]
  },
  {
   "cell_type": "markdown",
   "metadata": {
    "application/vnd.databricks.v1+cell": {
     "cellMetadata": {},
     "inputWidgets": {},
     "nuid": "73b31331-19a9-4f6b-9da3-f904c283ef50",
     "showTitle": false,
     "title": ""
    }
   },
   "source": [
    "You can also look at the table in hive now"
   ]
  },
  {
   "cell_type": "code",
   "execution_count": 0,
   "metadata": {
    "application/vnd.databricks.v1+cell": {
     "cellMetadata": {
      "byteLimit": 2048000,
      "implicitDf": true,
      "rowLimit": 10000
     },
     "inputWidgets": {},
     "nuid": "12c492d0-1655-45f2-9771-bd29f8b941c7",
     "showTitle": false,
     "title": ""
    }
   },
   "outputs": [],
   "source": [
    "%sql\n",
    "show tables"
   ]
  },
  {
   "cell_type": "markdown",
   "metadata": {
    "application/vnd.databricks.v1+cell": {
     "cellMetadata": {},
     "inputWidgets": {},
     "nuid": "40286012-f16a-458b-88a9-f285434b24b5",
     "showTitle": false,
     "title": ""
    }
   },
   "source": [
    "####STEP 2 : Data exploration to find the right partition column\n",
    "Let's findout a column based on which we can do partitioning, the goal is to find out column based on which the data would be evenly distributed. We have months, year and season. Let's look at the data distribution according to those"
   ]
  },
  {
   "cell_type": "code",
   "execution_count": 0,
   "metadata": {
    "application/vnd.databricks.v1+cell": {
     "cellMetadata": {
      "byteLimit": 2048000,
      "implicitDf": true,
      "rowLimit": 10000
     },
     "inputWidgets": {},
     "nuid": "10d7d9eb-1660-4b62-b282-3dbb51b41b74",
     "showTitle": false,
     "title": ""
    }
   },
   "outputs": [],
   "source": [
    "%sql\n",
    "SELECT dteday,count(1) FROM bikeSharing GROUP BY dteday order by 2"
   ]
  },
  {
   "cell_type": "code",
   "execution_count": 0,
   "metadata": {
    "application/vnd.databricks.v1+cell": {
     "cellMetadata": {
      "byteLimit": 2048000,
      "implicitDf": true,
      "rowLimit": 10000
     },
     "inputWidgets": {},
     "nuid": "bf3a25af-e3db-4a05-91bc-38e928ad3b7e",
     "showTitle": false,
     "title": ""
    }
   },
   "outputs": [],
   "source": [
    "%sql\n",
    "SELECT mnth,count(1) FROM bikeSharing GROUP BY mnth order by 2"
   ]
  },
  {
   "cell_type": "markdown",
   "metadata": {
    "application/vnd.databricks.v1+cell": {
     "cellMetadata": {},
     "inputWidgets": {},
     "nuid": "b25d3deb-81c7-4f88-a203-3c5750cf3aaa",
     "showTitle": false,
     "title": ""
    }
   },
   "source": [
    "####STEP 3 : Partition the table\n",
    "Looks like month would be a good candidate as it won't grow exponentially as dteday, it will be fixed at 12 per year and the data is evenly distributed"
   ]
  },
  {
   "cell_type": "code",
   "execution_count": 0,
   "metadata": {
    "application/vnd.databricks.v1+cell": {
     "cellMetadata": {
      "byteLimit": 2048000,
      "implicitDf": true,
      "rowLimit": 10000
     },
     "inputWidgets": {},
     "nuid": "31591601-81d8-44dc-b6d7-1ab288e90943",
     "showTitle": false,
     "title": ""
    }
   },
   "outputs": [],
   "source": [
    "%sql\n",
    "DROP TABLE IF EXISTS bikeSharingPartition;\n",
    "CREATE TABLE bikeSharingPartition\n",
    "USING DELTA\n",
    "PARTITIONED BY (mnth)\n",
    "LOCATION '/tmp/bikeSharingPartition/'\n",
    "AS SELECT * FROM  bikeSharing"
   ]
  },
  {
   "cell_type": "markdown",
   "metadata": {
    "application/vnd.databricks.v1+cell": {
     "cellMetadata": {},
     "inputWidgets": {},
     "nuid": "4b6746ff-62bb-4ae7-89ed-3f613df36077",
     "showTitle": false,
     "title": ""
    }
   },
   "source": [
    "And we can display the table also in the hive metastore"
   ]
  },
  {
   "cell_type": "code",
   "execution_count": 0,
   "metadata": {
    "application/vnd.databricks.v1+cell": {
     "cellMetadata": {
      "byteLimit": 2048000,
      "implicitDf": true,
      "rowLimit": 10000
     },
     "inputWidgets": {},
     "nuid": "9bd2bb8d-a1d4-49b5-8e73-89b185b5ca46",
     "showTitle": false,
     "title": ""
    }
   },
   "outputs": [],
   "source": [
    "%sql\n",
    "show tables"
   ]
  },
  {
   "cell_type": "code",
   "execution_count": 0,
   "metadata": {
    "application/vnd.databricks.v1+cell": {
     "cellMetadata": {
      "byteLimit": 2048000,
      "implicitDf": true,
      "rowLimit": 10000
     },
     "inputWidgets": {},
     "nuid": "ed105f91-2b5e-4efb-98a3-50943c3e4461",
     "showTitle": false,
     "title": ""
    }
   },
   "outputs": [],
   "source": [
    "%sql\n",
    "select * from bikeSharingPartition"
   ]
  },
  {
   "cell_type": "markdown",
   "metadata": {
    "application/vnd.databricks.v1+cell": {
     "cellMetadata": {},
     "inputWidgets": {},
     "nuid": "8df321c9-839b-46c2-91c1-d5a88f5a7341",
     "showTitle": false,
     "title": ""
    }
   },
   "source": [
    "Let's compare partitioned table vs the original non partitioned one from the file system level. You can see the number of folder/blobs being created for paritioned table"
   ]
  },
  {
   "cell_type": "code",
   "execution_count": 0,
   "metadata": {
    "application/vnd.databricks.v1+cell": {
     "cellMetadata": {
      "byteLimit": 2048000,
      "rowLimit": 10000
     },
     "inputWidgets": {},
     "nuid": "d2edf7fc-2966-4afd-9a78-74b4e5e36fca",
     "showTitle": false,
     "title": ""
    }
   },
   "outputs": [],
   "source": [
    "%fs ls \"/tmp/bikeSharing/\""
   ]
  },
  {
   "cell_type": "code",
   "execution_count": 0,
   "metadata": {
    "application/vnd.databricks.v1+cell": {
     "cellMetadata": {
      "byteLimit": 2048000,
      "rowLimit": 10000
     },
     "inputWidgets": {},
     "nuid": "3e97f83a-93b7-4157-ad23-5f77f000c701",
     "showTitle": false,
     "title": ""
    }
   },
   "outputs": [],
   "source": [
    "%fs ls \"/tmp/bikeSharingPartition/\""
   ]
  },
  {
   "cell_type": "markdown",
   "metadata": {
    "application/vnd.databricks.v1+cell": {
     "cellMetadata": {},
     "inputWidgets": {},
     "nuid": "3f946fe6-f1b9-4a0a-b280-c6be7f3dd977",
     "showTitle": false,
     "title": ""
    }
   },
   "source": [
    "####STEP : 4 Time travel in delta table\n",
    "#####Lets use the bike sharing dataset day.csv"
   ]
  },
  {
   "cell_type": "code",
   "execution_count": 0,
   "metadata": {
    "application/vnd.databricks.v1+cell": {
     "cellMetadata": {
      "byteLimit": 2048000,
      "rowLimit": 10000
     },
     "inputWidgets": {},
     "nuid": "5c9051d0-dd13-4561-9cf7-98774b91a4a2",
     "showTitle": false,
     "title": ""
    }
   },
   "outputs": [],
   "source": [
    "daydf = spark.read.format('csv').load(\n",
    "  '/databricks-datasets/bikeSharing/data-001/day.csv',\n",
    "  header=True,\n",
    "  inferSchema=True\n",
    ");\n",
    "daydf.createOrReplaceTempView(\"temp\");"
   ]
  },
  {
   "cell_type": "markdown",
   "metadata": {
    "application/vnd.databricks.v1+cell": {
     "cellMetadata": {},
     "inputWidgets": {},
     "nuid": "cde7d8e6-cf7c-4b11-9750-32b2ab2f5c0c",
     "showTitle": false,
     "title": ""
    }
   },
   "source": [
    "And create a table bikeSharingDay as a delta table by a CETAS command from the previously created temorary view 'temp'"
   ]
  },
  {
   "cell_type": "code",
   "execution_count": 0,
   "metadata": {
    "application/vnd.databricks.v1+cell": {
     "cellMetadata": {
      "byteLimit": 2048000,
      "implicitDf": true,
      "rowLimit": 10000
     },
     "inputWidgets": {},
     "nuid": "1e59bac9-a634-4b25-92b8-c01a6de6904b",
     "showTitle": false,
     "title": ""
    }
   },
   "outputs": [],
   "source": [
    "%sql\n",
    "DROP TABLE IF EXISTS bikeSharingDay;\n",
    "CREATE TABLE bikeSharingDay \n",
    "USING DELTA\n",
    "LOCATION '/tmp/bikeSharingDay/'\n",
    "AS SELECT * from  temp"
   ]
  },
  {
   "cell_type": "markdown",
   "metadata": {
    "application/vnd.databricks.v1+cell": {
     "cellMetadata": {},
     "inputWidgets": {},
     "nuid": "9484595e-34bb-442c-9939-7298f0157389",
     "showTitle": false,
     "title": ""
    }
   },
   "source": [
    "now let's select the count of this table (should be 731)"
   ]
  },
  {
   "cell_type": "code",
   "execution_count": 0,
   "metadata": {
    "application/vnd.databricks.v1+cell": {
     "cellMetadata": {
      "byteLimit": 2048000,
      "implicitDf": true,
      "rowLimit": 10000
     },
     "inputWidgets": {},
     "nuid": "bcbae9c0-69d7-4a90-b7b4-0f43d3b0c3e7",
     "showTitle": false,
     "title": ""
    }
   },
   "outputs": [],
   "source": [
    "%sql\n",
    "select count(1) as rowCount from bikeSharingDay;\n"
   ]
  },
  {
   "cell_type": "markdown",
   "metadata": {
    "application/vnd.databricks.v1+cell": {
     "cellMetadata": {},
     "inputWidgets": {},
     "nuid": "e6d3401e-46dc-4b8d-8147-8e464ad744b8",
     "showTitle": false,
     "title": ""
    }
   },
   "source": [
    "now let's delete all the rows of month of december after first counting them (should be 62)"
   ]
  },
  {
   "cell_type": "code",
   "execution_count": 0,
   "metadata": {
    "application/vnd.databricks.v1+cell": {
     "cellMetadata": {
      "byteLimit": 2048000,
      "implicitDf": true,
      "rowLimit": 10000
     },
     "inputWidgets": {},
     "nuid": "6429df12-3c7e-49ac-8c04-029503721341",
     "showTitle": false,
     "title": ""
    }
   },
   "outputs": [],
   "source": [
    "%sql\n",
    "select count(1) as DecemberCount from bikesharingday where mnth = 12;\n",
    "DELETE FROM bikeSharingDay where mnth=12;"
   ]
  },
  {
   "cell_type": "markdown",
   "metadata": {
    "application/vnd.databricks.v1+cell": {
     "cellMetadata": {},
     "inputWidgets": {},
     "nuid": "a3f44da1-78b4-43fe-8684-355f40bac234",
     "showTitle": false,
     "title": ""
    }
   },
   "source": [
    "now let's count again should be 731 - 62 = 669"
   ]
  },
  {
   "cell_type": "code",
   "execution_count": 0,
   "metadata": {
    "application/vnd.databricks.v1+cell": {
     "cellMetadata": {
      "byteLimit": 2048000,
      "implicitDf": true,
      "rowLimit": 10000
     },
     "inputWidgets": {},
     "nuid": "2676ae43-1a08-4aab-a997-0591b3f12504",
     "showTitle": false,
     "title": ""
    }
   },
   "outputs": [],
   "source": [
    "%sql\n",
    "select count(1) from bikeSharingDay;"
   ]
  },
  {
   "cell_type": "markdown",
   "metadata": {
    "application/vnd.databricks.v1+cell": {
     "cellMetadata": {},
     "inputWidgets": {},
     "nuid": "8425e1ef-7ffb-4c67-8e16-9494e4c5e280",
     "showTitle": false,
     "title": ""
    }
   },
   "source": [
    "Let's look at the history of the table\n",
    "---\n",
    "\n",
    "we're seeing two entries (version 0 and 1 with an explanation what caused the version change). have a look !"
   ]
  },
  {
   "cell_type": "code",
   "execution_count": 0,
   "metadata": {
    "application/vnd.databricks.v1+cell": {
     "cellMetadata": {
      "byteLimit": 2048000,
      "implicitDf": true,
      "rowLimit": 10000
     },
     "inputWidgets": {},
     "nuid": "51cae1da-6135-4da6-9dc2-f3fc7d431227",
     "showTitle": false,
     "title": ""
    }
   },
   "outputs": [],
   "source": [
    "%sql\n",
    "DESCRIBE HISTORY bikeSharingDay"
   ]
  },
  {
   "cell_type": "markdown",
   "metadata": {
    "application/vnd.databricks.v1+cell": {
     "cellMetadata": {},
     "inputWidgets": {},
     "nuid": "52dc4c01-a9d9-44f8-8771-7c55ea1ec8df",
     "showTitle": false,
     "title": ""
    }
   },
   "source": [
    "Now let's explore the version as of clause, where we count the records of version 1 and version 0 (should be 669 and 731)\n",
    "if we wanted, we could restore the table to its original by issuing \n",
    "'restore table bikeSharingDay version as of 0'"
   ]
  },
  {
   "cell_type": "code",
   "execution_count": 0,
   "metadata": {
    "application/vnd.databricks.v1+cell": {
     "cellMetadata": {
      "byteLimit": 2048000,
      "implicitDf": true,
      "rowLimit": 10000
     },
     "inputWidgets": {},
     "nuid": "a7dbb4e2-d44c-401a-83ab-d99c64f6768f",
     "showTitle": false,
     "title": ""
    }
   },
   "outputs": [],
   "source": [
    "%sql\n",
    "SELECT count(1) from bikeSharingDay VERSION AS OF 1"
   ]
  },
  {
   "cell_type": "code",
   "execution_count": 0,
   "metadata": {
    "application/vnd.databricks.v1+cell": {
     "cellMetadata": {
      "byteLimit": 2048000,
      "implicitDf": true,
      "rowLimit": 10000
     },
     "inputWidgets": {},
     "nuid": "b7907f3a-d711-423a-b43e-67387c7f6aa4",
     "showTitle": false,
     "title": ""
    }
   },
   "outputs": [],
   "source": [
    "%sql\n",
    "SELECT count(1) from bikeSharingDay VERSION AS OF 0"
   ]
  },
  {
   "cell_type": "markdown",
   "metadata": {
    "application/vnd.databricks.v1+cell": {
     "cellMetadata": {},
     "inputWidgets": {},
     "nuid": "79aa6413-b386-4cb5-969e-4531f770804b",
     "showTitle": false,
     "title": ""
    }
   },
   "source": [
    "####STEP : 5 Optimize and Analyze\n",
    "#####Lets use the bike sharing dataset day.csv"
   ]
  },
  {
   "cell_type": "code",
   "execution_count": 0,
   "metadata": {
    "application/vnd.databricks.v1+cell": {
     "cellMetadata": {
      "byteLimit": 2048000,
      "rowLimit": 10000
     },
     "inputWidgets": {},
     "nuid": "b497d11b-89c3-497f-86b6-8b3e2d6b3126",
     "showTitle": false,
     "title": ""
    }
   },
   "outputs": [],
   "source": [
    "daydf = spark.read.format('csv').load(\n",
    "  '/databricks-datasets/bikeSharing/data-001/day.csv',\n",
    "  header=True,\n",
    "  inferSchema=True\n",
    ");\n",
    "daydf.createOrReplaceTempView(\"tempopt\");"
   ]
  },
  {
   "cell_type": "markdown",
   "metadata": {
    "application/vnd.databricks.v1+cell": {
     "cellMetadata": {},
     "inputWidgets": {},
     "nuid": "0848f9f9-3e71-4e0c-a9e7-6f136a5f9ad6",
     "showTitle": false,
     "title": ""
    }
   },
   "source": [
    "#####Lets create a parquet table and get runtime for a query"
   ]
  },
  {
   "cell_type": "code",
   "execution_count": 0,
   "metadata": {
    "application/vnd.databricks.v1+cell": {
     "cellMetadata": {
      "byteLimit": 2048000,
      "implicitDf": true,
      "rowLimit": 10000
     },
     "inputWidgets": {},
     "nuid": "c7678cf4-c20f-4ec7-9ed6-58ca4894b8e5",
     "showTitle": false,
     "title": ""
    }
   },
   "outputs": [],
   "source": [
    "%sql\n",
    "DROP TABLE IF EXISTS bikeSharingDayOptPar;\n",
    "CREATE TABLE bikeSharingDayOptPar \n",
    "USING PARQUET\n",
    "LOCATION '/tmp/bikeSharingDayOptPar/'\n",
    "AS SELECT * from  tempopt"
   ]
  },
  {
   "cell_type": "code",
   "execution_count": 0,
   "metadata": {
    "application/vnd.databricks.v1+cell": {
     "cellMetadata": {
      "byteLimit": 2048000,
      "implicitDf": true,
      "rowLimit": 10000
     },
     "inputWidgets": {},
     "nuid": "8f858000-ce03-4071-951d-1efd9123243f",
     "showTitle": false,
     "title": ""
    }
   },
   "outputs": [],
   "source": [
    "%sql\n",
    "SELECT weekday,mnth, count(*) FROM bikeSharingDayOptPar group by weekday,mnth order by weekday,mnth"
   ]
  },
  {
   "cell_type": "markdown",
   "metadata": {
    "application/vnd.databricks.v1+cell": {
     "cellMetadata": {},
     "inputWidgets": {},
     "nuid": "b132a9b4-327a-474d-8504-e743ef71512e",
     "showTitle": false,
     "title": ""
    }
   },
   "source": [
    "#####Lets create a delta table and get runtime for the aforementioned query with and without optimize, Observe the runtime"
   ]
  },
  {
   "cell_type": "code",
   "execution_count": 0,
   "metadata": {
    "application/vnd.databricks.v1+cell": {
     "cellMetadata": {
      "byteLimit": 2048000,
      "implicitDf": true,
      "rowLimit": 10000
     },
     "inputWidgets": {},
     "nuid": "742d5ebe-be6e-4142-8866-f49c4fbdf612",
     "showTitle": false,
     "title": ""
    }
   },
   "outputs": [],
   "source": [
    "%sql\n",
    "DROP TABLE IF EXISTS bikeSharingDayOptDel;\n",
    "CREATE TABLE bikeSharingDayOptDel\n",
    "USING DELTA\n",
    "LOCATION '/tmp/bikeSharingDayOptDel/'\n",
    "AS SELECT * from  tempopt"
   ]
  },
  {
   "cell_type": "code",
   "execution_count": 0,
   "metadata": {
    "application/vnd.databricks.v1+cell": {
     "cellMetadata": {
      "byteLimit": 2048000,
      "implicitDf": true,
      "rowLimit": 10000
     },
     "inputWidgets": {},
     "nuid": "017c3803-aea9-4429-ab1b-868ad4ecdc53",
     "showTitle": false,
     "title": ""
    }
   },
   "outputs": [],
   "source": [
    "%sql\n",
    "SELECT weekday,mnth, count(*) FROM bikeSharingDayOptDel group by weekday,mnth order by weekday,mnth"
   ]
  },
  {
   "cell_type": "code",
   "execution_count": 0,
   "metadata": {
    "application/vnd.databricks.v1+cell": {
     "cellMetadata": {
      "byteLimit": 2048000,
      "implicitDf": true,
      "rowLimit": 10000
     },
     "inputWidgets": {},
     "nuid": "60b02a9a-427e-456b-925a-a8c491e61cfe",
     "showTitle": false,
     "title": ""
    }
   },
   "outputs": [],
   "source": [
    "%sql\n",
    "OPTIMIZE bikeSharingDayOptDel"
   ]
  },
  {
   "cell_type": "code",
   "execution_count": 0,
   "metadata": {
    "application/vnd.databricks.v1+cell": {
     "cellMetadata": {
      "byteLimit": 2048000,
      "implicitDf": true,
      "rowLimit": 10000
     },
     "inputWidgets": {},
     "nuid": "4923d49f-b7ee-48d2-9b90-cf5677f4cec6",
     "showTitle": false,
     "title": ""
    }
   },
   "outputs": [],
   "source": [
    "%sql\n",
    "SELECT weekday,mnth, count(*) FROM bikeSharingDayOptDel group by weekday,mnth order by weekday,mnth"
   ]
  },
  {
   "cell_type": "markdown",
   "metadata": {
    "application/vnd.databricks.v1+cell": {
     "cellMetadata": {},
     "inputWidgets": {},
     "nuid": "a485e991-3992-419d-86bc-3d96f24113c3",
     "showTitle": false,
     "title": ""
    }
   },
   "source": [
    "#####We can compute statistics which will be helpful for optimizer to get a better plan based on data distirbution, skewness and histogram"
   ]
  },
  {
   "cell_type": "code",
   "execution_count": 0,
   "metadata": {
    "application/vnd.databricks.v1+cell": {
     "cellMetadata": {
      "byteLimit": 2048000,
      "implicitDf": true,
      "rowLimit": 10000
     },
     "inputWidgets": {},
     "nuid": "e112f730-f5de-407a-805f-4dd42505d9e8",
     "showTitle": false,
     "title": ""
    }
   },
   "outputs": [],
   "source": [
    "%sql\n",
    "ANALYZE TABLE bikeSharingDayOptDel COMPUTE STATISTICS FOR ALL COLUMNS"
   ]
  },
  {
   "cell_type": "markdown",
   "metadata": {
    "application/vnd.databricks.v1+cell": {
     "cellMetadata": {},
     "inputWidgets": {},
     "nuid": "1eaed381-e5d8-4de6-b188-7848b23bd97d",
     "showTitle": false,
     "title": ""
    }
   },
   "source": [
    "####STEP : 7 Vacuum for Databricks delta table"
   ]
  },
  {
   "cell_type": "markdown",
   "metadata": {
    "application/vnd.databricks.v1+cell": {
     "cellMetadata": {},
     "inputWidgets": {},
     "nuid": "bbe7a55e-75cd-454e-9936-f517e1f30f3b",
     "showTitle": false,
     "title": ""
    }
   },
   "source": [
    "######Lets check the number of parquet files for our bikeSharingDayOptDel, it should be only one parquet file"
   ]
  },
  {
   "cell_type": "code",
   "execution_count": 0,
   "metadata": {
    "application/vnd.databricks.v1+cell": {
     "cellMetadata": {
      "byteLimit": 2048000,
      "rowLimit": 10000
     },
     "inputWidgets": {},
     "nuid": "121c03fa-56bd-49d2-9c6d-c0425fc0441f",
     "showTitle": false,
     "title": ""
    }
   },
   "outputs": [],
   "source": [
    "%fs ls \"/tmp/bikeSharingDayOptDel\""
   ]
  },
  {
   "cell_type": "markdown",
   "metadata": {
    "application/vnd.databricks.v1+cell": {
     "cellMetadata": {},
     "inputWidgets": {},
     "nuid": "5032ffba-d92e-44bb-9836-47af513e9c2f",
     "showTitle": false,
     "title": ""
    }
   },
   "source": [
    "######Let's update the cnt column to 0 to ensure we get a new parquet file"
   ]
  },
  {
   "cell_type": "code",
   "execution_count": 0,
   "metadata": {
    "application/vnd.databricks.v1+cell": {
     "cellMetadata": {
      "byteLimit": 2048000,
      "implicitDf": true,
      "rowLimit": 10000
     },
     "inputWidgets": {},
     "nuid": "ae47de7e-061f-49d0-9b59-d950ec064028",
     "showTitle": false,
     "title": ""
    }
   },
   "outputs": [],
   "source": [
    "%sql\n",
    "UPDATE bikeSharingDayOptDel SET cnt=0"
   ]
  },
  {
   "cell_type": "code",
   "execution_count": 0,
   "metadata": {
    "application/vnd.databricks.v1+cell": {
     "cellMetadata": {
      "byteLimit": 2048000,
      "rowLimit": 10000
     },
     "inputWidgets": {},
     "nuid": "978a4e5f-af17-4980-87cd-2ace6e7189f5",
     "showTitle": false,
     "title": ""
    }
   },
   "outputs": [],
   "source": [
    "%fs ls \"/tmp/bikeSharingDayOptDel\""
   ]
  },
  {
   "cell_type": "markdown",
   "metadata": {
    "application/vnd.databricks.v1+cell": {
     "cellMetadata": {},
     "inputWidgets": {},
     "nuid": "01d4418f-2397-4ec7-9018-990c00b777d0",
     "showTitle": false,
     "title": ""
    }
   },
   "source": [
    "Vacuum by default have a retention period of 168 hours/7 days, but if you want this check not to be enabled then we can set a config"
   ]
  },
  {
   "cell_type": "code",
   "execution_count": 0,
   "metadata": {
    "application/vnd.databricks.v1+cell": {
     "cellMetadata": {
      "byteLimit": 2048000,
      "implicitDf": true,
      "rowLimit": 10000
     },
     "inputWidgets": {},
     "nuid": "6179f0f4-2bc6-44f0-9fc8-5e52178dc96a",
     "showTitle": false,
     "title": ""
    }
   },
   "outputs": [],
   "source": [
    "%sql\n",
    "VACUUM bikeSharingDayOptDel RETAIN 0 HOURS"
   ]
  },
  {
   "cell_type": "code",
   "execution_count": 0,
   "metadata": {
    "application/vnd.databricks.v1+cell": {
     "cellMetadata": {
      "byteLimit": 2048000,
      "rowLimit": 10000
     },
     "inputWidgets": {},
     "nuid": "e7c98ce7-59d5-4840-8f25-f380aca64a53",
     "showTitle": false,
     "title": ""
    }
   },
   "outputs": [],
   "source": [
    "spark.conf.set(\"spark.databricks.delta.retentionDurationCheck.enabled\",False)"
   ]
  },
  {
   "cell_type": "code",
   "execution_count": 0,
   "metadata": {
    "application/vnd.databricks.v1+cell": {
     "cellMetadata": {
      "byteLimit": 2048000,
      "implicitDf": true,
      "rowLimit": 10000
     },
     "inputWidgets": {},
     "nuid": "a4ebfb48-4db2-4281-9656-b02dd2afba78",
     "showTitle": false,
     "title": ""
    }
   },
   "outputs": [],
   "source": [
    "%sql\n",
    "VACUUM bikeSharingDayOptDel RETAIN 0 HOURS"
   ]
  },
  {
   "cell_type": "code",
   "execution_count": 0,
   "metadata": {
    "application/vnd.databricks.v1+cell": {
     "cellMetadata": {
      "byteLimit": 2048000,
      "rowLimit": 10000
     },
     "inputWidgets": {},
     "nuid": "0d6a7eea-02a0-41fd-ac0c-2b0e345eb8ba",
     "showTitle": false,
     "title": ""
    }
   },
   "outputs": [],
   "source": [
    "%fs ls \"/tmp/bikeSharingDayOptDel\""
   ]
  },
  {
   "cell_type": "code",
   "execution_count": 0,
   "metadata": {
    "application/vnd.databricks.v1+cell": {
     "cellMetadata": {},
     "inputWidgets": {},
     "nuid": "3e231908-56ee-4902-a5c8-2aa00dd1f4f7",
     "showTitle": false,
     "title": ""
    }
   },
   "outputs": [],
   "source": []
  }
 ],
 "metadata": {
  "application/vnd.databricks.v1+notebook": {
   "dashboards": [],
   "language": "python",
   "notebookMetadata": {
    "mostRecentlyExecutedCommandWithImplicitDF": {
     "commandId": 2713641679906968,
     "dataframes": [
      "_sqldf"
     ]
    },
    "pythonIndentUnit": 2
   },
   "notebookName": "M03_L02_Lab01",
   "notebookOrigID": 2713641679906919,
   "widgets": {}
  }
 },
 "nbformat": 4,
 "nbformat_minor": 0
}
